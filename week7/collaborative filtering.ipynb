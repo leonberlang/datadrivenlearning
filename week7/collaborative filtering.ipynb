{
 "cells": [
  {
   "cell_type": "code",
   "execution_count": 1,
   "metadata": {},
   "outputs": [],
   "source": [
    "import pandas as pd\n",
    "import seaborn as sns"
   ]
  },
  {
   "cell_type": "code",
   "execution_count": 2,
   "metadata": {},
   "outputs": [],
   "source": [
    "ratings = pd.read_csv(\"ratings.csv\")\n",
    "movies = pd.read_csv(\"movies.csv\")"
   ]
  },
  {
   "cell_type": "code",
   "execution_count": 3,
   "metadata": {},
   "outputs": [],
   "source": [
    "mr = pd.merge(ratings,movies,on=\"movieId\")"
   ]
  },
  {
   "cell_type": "code",
   "execution_count": 4,
   "metadata": {},
   "outputs": [
    {
     "data": {
      "text/html": [
       "<div>\n",
       "<style scoped>\n",
       "    .dataframe tbody tr th:only-of-type {\n",
       "        vertical-align: middle;\n",
       "    }\n",
       "\n",
       "    .dataframe tbody tr th {\n",
       "        vertical-align: top;\n",
       "    }\n",
       "\n",
       "    .dataframe thead th {\n",
       "        text-align: right;\n",
       "    }\n",
       "</style>\n",
       "<table border=\"1\" class=\"dataframe\">\n",
       "  <thead>\n",
       "    <tr style=\"text-align: right;\">\n",
       "      <th></th>\n",
       "      <th>userId</th>\n",
       "      <th>movieId</th>\n",
       "      <th>rating</th>\n",
       "      <th>timestamp</th>\n",
       "      <th>title</th>\n",
       "      <th>genres</th>\n",
       "    </tr>\n",
       "  </thead>\n",
       "  <tbody>\n",
       "    <tr>\n",
       "      <th>0</th>\n",
       "      <td>1</td>\n",
       "      <td>1</td>\n",
       "      <td>4.0</td>\n",
       "      <td>964982703</td>\n",
       "      <td>Toy Story (1995)</td>\n",
       "      <td>Adventure|Animation|Children|Comedy|Fantasy</td>\n",
       "    </tr>\n",
       "  </tbody>\n",
       "</table>\n",
       "</div>"
      ],
      "text/plain": [
       "   userId  movieId  rating  timestamp             title  \\\n",
       "0       1        1     4.0  964982703  Toy Story (1995)   \n",
       "\n",
       "                                        genres  \n",
       "0  Adventure|Animation|Children|Comedy|Fantasy  "
      ]
     },
     "execution_count": 4,
     "metadata": {},
     "output_type": "execute_result"
    }
   ],
   "source": [
    "mr.head(1)"
   ]
  },
  {
   "cell_type": "code",
   "execution_count": 63,
   "metadata": {},
   "outputs": [
    {
     "data": {
      "text/html": [
       "<div>\n",
       "<style scoped>\n",
       "    .dataframe tbody tr th:only-of-type {\n",
       "        vertical-align: middle;\n",
       "    }\n",
       "\n",
       "    .dataframe tbody tr th {\n",
       "        vertical-align: top;\n",
       "    }\n",
       "\n",
       "    .dataframe thead th {\n",
       "        text-align: right;\n",
       "    }\n",
       "</style>\n",
       "<table border=\"1\" class=\"dataframe\">\n",
       "  <thead>\n",
       "    <tr style=\"text-align: right;\">\n",
       "      <th>title</th>\n",
       "      <th>'71 (2014)</th>\n",
       "      <th>'Hellboy': The Seeds of Creation (2004)</th>\n",
       "      <th>'Round Midnight (1986)</th>\n",
       "      <th>'Salem's Lot (2004)</th>\n",
       "      <th>'Til There Was You (1997)</th>\n",
       "      <th>'Tis the Season for Love (2015)</th>\n",
       "      <th>'burbs, The (1989)</th>\n",
       "      <th>'night Mother (1986)</th>\n",
       "      <th>(500) Days of Summer (2009)</th>\n",
       "      <th>*batteries not included (1987)</th>\n",
       "      <th>...</th>\n",
       "      <th>Zulu (2013)</th>\n",
       "      <th>[REC] (2007)</th>\n",
       "      <th>[REC]² (2009)</th>\n",
       "      <th>[REC]³ 3 Génesis (2012)</th>\n",
       "      <th>anohana: The Flower We Saw That Day - The Movie (2013)</th>\n",
       "      <th>eXistenZ (1999)</th>\n",
       "      <th>xXx (2002)</th>\n",
       "      <th>xXx: State of the Union (2005)</th>\n",
       "      <th>¡Three Amigos! (1986)</th>\n",
       "      <th>À nous la liberté (Freedom for Us) (1931)</th>\n",
       "    </tr>\n",
       "    <tr>\n",
       "      <th>userId</th>\n",
       "      <th></th>\n",
       "      <th></th>\n",
       "      <th></th>\n",
       "      <th></th>\n",
       "      <th></th>\n",
       "      <th></th>\n",
       "      <th></th>\n",
       "      <th></th>\n",
       "      <th></th>\n",
       "      <th></th>\n",
       "      <th></th>\n",
       "      <th></th>\n",
       "      <th></th>\n",
       "      <th></th>\n",
       "      <th></th>\n",
       "      <th></th>\n",
       "      <th></th>\n",
       "      <th></th>\n",
       "      <th></th>\n",
       "      <th></th>\n",
       "      <th></th>\n",
       "    </tr>\n",
       "  </thead>\n",
       "  <tbody>\n",
       "    <tr>\n",
       "      <th>1</th>\n",
       "      <td>NaN</td>\n",
       "      <td>NaN</td>\n",
       "      <td>NaN</td>\n",
       "      <td>NaN</td>\n",
       "      <td>NaN</td>\n",
       "      <td>NaN</td>\n",
       "      <td>NaN</td>\n",
       "      <td>NaN</td>\n",
       "      <td>NaN</td>\n",
       "      <td>NaN</td>\n",
       "      <td>...</td>\n",
       "      <td>NaN</td>\n",
       "      <td>NaN</td>\n",
       "      <td>NaN</td>\n",
       "      <td>NaN</td>\n",
       "      <td>NaN</td>\n",
       "      <td>NaN</td>\n",
       "      <td>NaN</td>\n",
       "      <td>NaN</td>\n",
       "      <td>4.0</td>\n",
       "      <td>NaN</td>\n",
       "    </tr>\n",
       "  </tbody>\n",
       "</table>\n",
       "<p>1 rows × 9719 columns</p>\n",
       "</div>"
      ],
      "text/plain": [
       "title   '71 (2014)  'Hellboy': The Seeds of Creation (2004)  \\\n",
       "userId                                                        \n",
       "1              NaN                                      NaN   \n",
       "\n",
       "title   'Round Midnight (1986)  'Salem's Lot (2004)  \\\n",
       "userId                                                \n",
       "1                          NaN                  NaN   \n",
       "\n",
       "title   'Til There Was You (1997)  'Tis the Season for Love (2015)  \\\n",
       "userId                                                               \n",
       "1                             NaN                              NaN   \n",
       "\n",
       "title   'burbs, The (1989)  'night Mother (1986)  (500) Days of Summer (2009)  \\\n",
       "userId                                                                          \n",
       "1                      NaN                   NaN                          NaN   \n",
       "\n",
       "title   *batteries not included (1987)  \\\n",
       "userId                                   \n",
       "1                                  NaN   \n",
       "\n",
       "title                     ...                      Zulu (2013)  [REC] (2007)  \\\n",
       "userId                    ...                                                  \n",
       "1                         ...                              NaN           NaN   \n",
       "\n",
       "title   [REC]² (2009)  [REC]³ 3 Génesis (2012)  \\\n",
       "userId                                           \n",
       "1                 NaN                      NaN   \n",
       "\n",
       "title   anohana: The Flower We Saw That Day - The Movie (2013)  \\\n",
       "userId                                                           \n",
       "1                                                     NaN        \n",
       "\n",
       "title   eXistenZ (1999)  xXx (2002)  xXx: State of the Union (2005)  \\\n",
       "userId                                                                \n",
       "1                   NaN         NaN                             NaN   \n",
       "\n",
       "title   ¡Three Amigos! (1986)  À nous la liberté (Freedom for Us) (1931)  \n",
       "userId                                                                    \n",
       "1                         4.0                                        NaN  \n",
       "\n",
       "[1 rows x 9719 columns]"
      ]
     },
     "execution_count": 63,
     "metadata": {},
     "output_type": "execute_result"
    }
   ],
   "source": [
    "piv_mr = pd.pivot_table(data=mr, index='userId', columns='title' ,values='rating')\n",
    "piv_mr.head(1)"
   ]
  },
  {
   "cell_type": "code",
   "execution_count": 66,
   "metadata": {
    "scrolled": true
   },
   "outputs": [
    {
     "name": "stderr",
     "output_type": "stream",
     "text": [
      "C:\\Users\\PC\\Anaconda3\\lib\\site-packages\\numpy\\lib\\function_base.py:3175: RuntimeWarning: Degrees of freedom <= 0 for slice\n",
      "  c = cov(x, y, rowvar)\n",
      "C:\\Users\\PC\\Anaconda3\\lib\\site-packages\\numpy\\lib\\function_base.py:3109: RuntimeWarning: divide by zero encountered in double_scalars\n",
      "  c *= 1. / np.float64(fact)\n"
     ]
    },
    {
     "data": {
      "text/plain": [
       "title\n",
       "Big Year, The (2011)                         1.0\n",
       "Joy (2015)                                   1.0\n",
       "Open Your Eyes (Abre los ojos) (1997)        1.0\n",
       "K-19: The Widowmaker (2002)                  1.0\n",
       "Game Plan, The (2007)                        1.0\n",
       "One Crazy Summer (1986)                      1.0\n",
       "Damsels in Distress (2011)                   1.0\n",
       "Human Nature (2001)                          1.0\n",
       "Stuart Little 2 (2002)                       1.0\n",
       "River Runs Through It, A (1992)              1.0\n",
       "Odd Couple, The (1968)                       1.0\n",
       "Garage Days (2002)                           1.0\n",
       "Kids (1995)                                  1.0\n",
       "Gas, Food, Lodging (1992)                    1.0\n",
       "Babe, The (1992)                             1.0\n",
       "Butch Cassidy and the Sundance Kid (1969)    1.0\n",
       "Stop! Or My Mom Will Shoot (1992)            1.0\n",
       "Tully (2000)                                 1.0\n",
       "Changing Lanes (2002)                        1.0\n",
       "Othello (1995)                               1.0\n",
       "Excalibur (1981)                             1.0\n",
       "Paper Towns (2015)                           1.0\n",
       "Sweet November (2001)                        1.0\n",
       "Suspiria (1977)                              1.0\n",
       "Trance (2013)                                1.0\n",
       "Paddington 2 (2017)                          1.0\n",
       "Paddington (2014)                            1.0\n",
       "Exam (2009)                                  1.0\n",
       "Out Cold (2001)                              1.0\n",
       "Futurama: Bender's Big Score (2007)          1.0\n",
       "                                            ... \n",
       "Elephant (2003)                              1.0\n",
       "Swimming with Sharks (1995)                  1.0\n",
       "Reindeer Games (2000)                        1.0\n",
       "Coach Carter (2005)                          1.0\n",
       "Toxic Avenger, The (1985)                    1.0\n",
       "Pollock (2000)                               1.0\n",
       "Beastmaster, The (1982)                      1.0\n",
       "Isle of Dogs (2018)                          1.0\n",
       "Basketball Diaries, The (1995)               1.0\n",
       "The Spectacular Now (2013)                   1.0\n",
       "Pokémon: The First Movie (1998)              1.0\n",
       "The Wedding Ringer (2015)                    1.0\n",
       "It Might Get Loud (2008)                     1.0\n",
       "Five-Year Engagement, The (2012)             1.0\n",
       "Pledge, The (2001)                           1.0\n",
       "Thin Blue Line, The (1988)                   1.0\n",
       "Freaky Friday (1977)                         1.0\n",
       "Carnage (2011)                               1.0\n",
       "Beethoven (1992)                             1.0\n",
       "Thirteen (2003)                              1.0\n",
       "Bear, The (Ours, L') (1988)                  1.0\n",
       "The Purge: Election Year (2016)              1.0\n",
       "Quest, The (1996)                            1.0\n",
       "Battleship Potemkin (1925)                   1.0\n",
       "Prophecy, The (1995)                         1.0\n",
       "Core, The (2003)                             1.0\n",
       "Informant!, The (2009)                       1.0\n",
       "Pump Up the Volume (1990)                    1.0\n",
       "Push (2009)                                  1.0\n",
       "Priest (2011)                                1.0\n",
       "Length: 100, dtype: float64"
      ]
     },
     "execution_count": 66,
     "metadata": {},
     "output_type": "execute_result"
    }
   ],
   "source": [
    "interstellar = piv_mr['Interstellar (2014)']\n",
    "q = piv_mr.corrwith(interstellar).sort_values(ascending=False)[0:100]\n",
    "q"
   ]
  },
  {
   "cell_type": "code",
   "execution_count": 73,
   "metadata": {},
   "outputs": [
    {
     "name": "stderr",
     "output_type": "stream",
     "text": [
      "C:\\Users\\PC\\Anaconda3\\lib\\site-packages\\numpy\\lib\\function_base.py:3175: RuntimeWarning: Degrees of freedom <= 0 for slice\n",
      "  c = cov(x, y, rowvar)\n",
      "C:\\Users\\PC\\Anaconda3\\lib\\site-packages\\numpy\\lib\\function_base.py:3109: RuntimeWarning: divide by zero encountered in double_scalars\n",
      "  c *= 1. / np.float64(fact)\n"
     ]
    },
    {
     "data": {
      "text/plain": [
       "title\n",
       "Butch Cassidy and the Sundance Kid (1969)      1.000000\n",
       "Sabrina (1995)                                 1.000000\n",
       "Interstellar (2014)                            1.000000\n",
       "First Knight (1995)                            1.000000\n",
       "American President, The (1995)                 0.993399\n",
       "Blair Witch Project, The (1999)                0.950933\n",
       "Birdcage, The (1996)                           0.870388\n",
       "Wallace & Gromit: The Wrong Trousers (1993)    0.864538\n",
       "Philadelphia (1993)                            0.852955\n",
       "Bug's Life, A (1998)                           0.849551\n",
       "dtype: float64"
      ]
     },
     "execution_count": 73,
     "metadata": {},
     "output_type": "execute_result"
    }
   ],
   "source": [
    "pivot_100 = piv_mr.dropna(axis=1, thresh=50)\n",
    "interstellar = pivot_100['Interstellar (2014)']\n",
    "fair_corr = pivot_100.corrwith(interstellar)\n",
    "fair_corr.sort_values(ascending=False)[0:10]"
   ]
  },
  {
   "cell_type": "markdown",
   "metadata": {},
   "source": [
    "### possible options:"
   ]
  },
  {
   "cell_type": "markdown",
   "metadata": {},
   "source": [
    "- Filter films with > 10 ratings (Take out of DF), only take into consideration users with multiple reviews (more credible).\n",
    "- filter out correlations -1 or 1\n",
    "- work only with movies with non-nan (WORK WITH THRESHOLDS)\n",
    "    i.e. threshold 100 non nan\n",
    "- for each combination of movies (only work with non NaN)\n",
    "- delete the NaN from the movie\n",
    "- inpute the NaN by 0. (fillNA (0))."
   ]
  },
  {
   "cell_type": "raw",
   "metadata": {
    "scrolled": true
   },
   "source": []
  },
  {
   "cell_type": "code",
   "execution_count": null,
   "metadata": {},
   "outputs": [],
   "source": [
    "# all the correlations are based on few ratings. Need reliable ratings. we would need XD"
   ]
  }
 ],
 "metadata": {
  "kernelspec": {
   "display_name": "Python 3",
   "language": "python",
   "name": "python3"
  },
  "language_info": {
   "codemirror_mode": {
    "name": "ipython",
    "version": 3
   },
   "file_extension": ".py",
   "mimetype": "text/x-python",
   "name": "python",
   "nbconvert_exporter": "python",
   "pygments_lexer": "ipython3",
   "version": "3.6.5"
  }
 },
 "nbformat": 4,
 "nbformat_minor": 2
}
